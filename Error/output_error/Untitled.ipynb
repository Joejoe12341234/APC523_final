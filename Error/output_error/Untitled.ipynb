{
 "cells": [
  {
   "cell_type": "code",
   "execution_count": 3,
   "id": "430c26b0",
   "metadata": {},
   "outputs": [
    {
     "name": "stdout",
     "output_type": "stream",
     "text": [
      "[[ 0.  0.  0. ...  0.  0.  0.]\n",
      " [ 0. nan nan ... nan nan  0.]\n",
      " [ 0. nan nan ... nan nan  0.]\n",
      " ...\n",
      " [ 0. nan nan ... nan nan  0.]\n",
      " [ 0. nan nan ... nan nan  0.]\n",
      " [ 0.  0.  0. ...  0.  0.  0.]]\n"
     ]
    },
    {
     "data": {
      "text/plain": [
       "<matplotlib.collections.PolyQuadMesh at 0x15b320610>"
      ]
     },
     "execution_count": 3,
     "metadata": {},
     "output_type": "execute_result"
    },
    {
     "data": {
      "image/png": "[encoded data removed]",
      "text/plain": [
       "<Figure size 640x480 with 1 Axes>"
      ]
     },
     "metadata": {},
     "output_type": "display_data"
    }
   ],
   "source": [
    "import numpy as np\n",
    "\n",
    "# Load the data from the .npy file\n",
    "data = np.load('w-0.75s-Re_10-space_cdf2-time_leapfrog.npy')\n",
    "\n",
    "# Print the data to see its contents\n",
    "print(data)\n",
    "\n",
    "# Numerical packages\n",
    "import numpy as np, xarray as xr\n",
    "# Visualization packages\n",
    "import matplotlib, matplotlib.pyplot as plt\n",
    "import matplotlib.animation\n",
    "# Utility packages\n",
    "import time\n",
    "plt.pcolor(data)"
   ]
  }
 ],
 "metadata": {
  "kernelspec": {
   "display_name": "Python 3 (ipykernel)",
   "language": "python",
   "name": "python3"
  },
  "language_info": {
   "codemirror_mode": {
    "name": "ipython",
    "version": 3
   },
   "file_extension": ".py",
   "mimetype": "text/x-python",
   "name": "python",
   "nbconvert_exporter": "python",
   "pygments_lexer": "ipython3",
   "version": "3.11.0"
  }
 },
 "nbformat": 4,
 "nbformat_minor": 5
}
